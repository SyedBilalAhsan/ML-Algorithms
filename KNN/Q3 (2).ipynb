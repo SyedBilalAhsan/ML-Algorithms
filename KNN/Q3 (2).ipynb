{
 "cells": [
  {
   "cell_type": "code",
   "execution_count": 1,
   "metadata": {},
   "outputs": [],
   "source": [
    "import pandas\n",
    "from sklearn.model_selection import train_test_split\n",
    "from sklearn.metrics import classification_report\n",
    "from sklearn.metrics import confusion_matrix\n",
    "from sklearn.metrics import accuracy_score\n",
    "from sklearn.neighbors import KNeighborsClassifier"
   ]
  },
  {
   "cell_type": "code",
   "execution_count": 2,
   "metadata": {},
   "outputs": [],
   "source": [
    "#(a)Load data set using pandas library\n",
    "dataset = pandas.read_csv(\"datatraining.txt\")"
   ]
  },
  {
   "cell_type": "code",
   "execution_count": 3,
   "metadata": {},
   "outputs": [
    {
     "data": {
      "text/plain": [
       "(8143, 7)"
      ]
     },
     "execution_count": 3,
     "metadata": {},
     "output_type": "execute_result"
    }
   ],
   "source": [
    "#(b) Print the size of data set e.g. size should be [150,5] (4 Features and 1 class).\n",
    "dataset.shape"
   ]
  },
  {
   "cell_type": "code",
   "execution_count": 4,
   "metadata": {},
   "outputs": [
    {
     "data": {
      "text/plain": [
       "Occupancy\n",
       "0    6414\n",
       "1    1729\n",
       "dtype: int64"
      ]
     },
     "execution_count": 4,
     "metadata": {},
     "output_type": "execute_result"
    }
   ],
   "source": [
    "#(c) Display the class distribution\n",
    "dataset.groupby('Occupancy').size()"
   ]
  },
  {
   "cell_type": "code",
   "execution_count": 5,
   "metadata": {},
   "outputs": [],
   "source": [
    "# train dataset\n",
    "array = dataset.values\n",
    "X_train = array[:,1:6]\n",
    "Y_train = array[:,6]\n"
   ]
  },
  {
   "cell_type": "code",
   "execution_count": 6,
   "metadata": {},
   "outputs": [],
   "source": [
    "#(d) Now, divide your data using hold out approach (80% for training and 20% for testing)\n",
    "# train / test dataset\n",
    "datatest = pandas.read_csv(\"datatest.txt\")\n",
    "array = datatest.values\n",
    "X_test = array[:,1:6]\n",
    "Y_test = array[:,6]\n",
    "Y_test=Y_test.astype('int')\n",
    "Y_train=Y_train.astype('int')\n"
   ]
  },
  {
   "cell_type": "code",
   "execution_count": 7,
   "metadata": {},
   "outputs": [
    {
     "name": "stdout",
     "output_type": "stream",
     "text": [
      "0.9335834896810506\n",
      "[[1645   48]\n",
      " [ 129  843]]\n",
      "              precision    recall  f1-score   support\n",
      "\n",
      "           0       0.93      0.97      0.95      1693\n",
      "           1       0.95      0.87      0.90       972\n",
      "\n",
      "    accuracy                           0.93      2665\n",
      "   macro avg       0.94      0.92      0.93      2665\n",
      "weighted avg       0.93      0.93      0.93      2665\n",
      "\n"
     ]
    }
   ],
   "source": [
    "def distance(X,Y):\n",
    "    chi=0\n",
    "    for(x,y) in zip(X,Y):\n",
    "        if(x + y != 0):\n",
    "            chi=chi + ((x - y) ** 2) / (x + y)\n",
    "    return chi\n",
    "#(e) Apply knn classifier. See the documentation below. You need to import necessary classes\n",
    "knn = KNeighborsClassifier(metric=distance)\n",
    "knn.fit(X_train, Y_train)\n",
    "predictions = knn.predict(X_test)\n",
    "print(accuracy_score(Y_test, predictions))\n",
    "print(confusion_matrix(Y_test, predictions))\n",
    "print(classification_report(Y_test, predictions))"
   ]
  },
  {
   "cell_type": "code",
   "execution_count": 8,
   "metadata": {},
   "outputs": [
    {
     "name": "stdout",
     "output_type": "stream",
     "text": [
      "k= 1 ,Accuracy= 0.9227016885553471\n",
      "k= 2 ,Accuracy= 0.9050656660412758\n",
      "k= 3 ,Accuracy= 0.924202626641651\n",
      "k= 4 ,Accuracy= 0.9144465290806755\n",
      "k= 5 ,Accuracy= 0.9335834896810506\n",
      "k= 6 ,Accuracy= 0.9230769230769231\n",
      "k= 7 ,Accuracy= 0.9530956848030019\n",
      "k= 8 ,Accuracy= 0.9467166979362102\n",
      "k= 9 ,Accuracy= 0.9654784240150094\n",
      "k= 10 ,Accuracy= 0.9609756097560975\n"
     ]
    }
   ],
   "source": [
    "#(f) Repeat (e) by changing the value of k (k=1, 2, 3,...., 10). Print only accuracy\n",
    "for i in range(1,11):\n",
    "    knn = KNeighborsClassifier(n_neighbors=i,metric=distance)\n",
    "    knn.fit(X_train, Y_train)\n",
    "    predictions = knn.predict(X_test)\n",
    "    print(\"k=\",i,\",Accuracy=\", accuracy_score(Y_test, predictions))"
   ]
  },
  {
   "cell_type": "code",
   "execution_count": 9,
   "metadata": {},
   "outputs": [],
   "source": [
    "#For test data2\n",
    "#(a)Load data set using pandas library\n",
    "datatest2 = pandas.read_csv(\"datatest2.txt\")\n"
   ]
  },
  {
   "cell_type": "code",
   "execution_count": 10,
   "metadata": {},
   "outputs": [
    {
     "data": {
      "text/plain": [
       "(9752, 7)"
      ]
     },
     "execution_count": 10,
     "metadata": {},
     "output_type": "execute_result"
    }
   ],
   "source": [
    "#(b) Print the size of data set e.g. size should be [150,5] (4 Features and 1 class).\n",
    "datatest2.shape"
   ]
  },
  {
   "cell_type": "code",
   "execution_count": 11,
   "metadata": {},
   "outputs": [
    {
     "data": {
      "text/plain": [
       "Occupancy\n",
       "0    6414\n",
       "1    1729\n",
       "dtype: int64"
      ]
     },
     "execution_count": 11,
     "metadata": {},
     "output_type": "execute_result"
    }
   ],
   "source": [
    "#(c) Display the class distribution\n",
    "dataset.groupby('Occupancy').size()"
   ]
  },
  {
   "cell_type": "code",
   "execution_count": 12,
   "metadata": {},
   "outputs": [],
   "source": [
    "#(d)train dataset\n",
    "array2 = datatest2.values\n",
    "X_test2 = array2[:,1:6]\n",
    "Y_test2 = array2[:,6]\n",
    "\n",
    "Y_test2=Y_test2.astype('int')"
   ]
  },
  {
   "cell_type": "code",
   "execution_count": 13,
   "metadata": {},
   "outputs": [
    {
     "name": "stdout",
     "output_type": "stream",
     "text": [
      "0.9607260049220673\n",
      "[[7410  293]\n",
      " [  90 1959]]\n",
      "              precision    recall  f1-score   support\n",
      "\n",
      "           0       0.99      0.96      0.97      7703\n",
      "           1       0.87      0.96      0.91      2049\n",
      "\n",
      "    accuracy                           0.96      9752\n",
      "   macro avg       0.93      0.96      0.94      9752\n",
      "weighted avg       0.96      0.96      0.96      9752\n",
      "\n"
     ]
    }
   ],
   "source": [
    "#(e) Apply knn classifier. See the documentation below. You need to import necessary classes\n",
    "knn = KNeighborsClassifier(metric=distance)\n",
    "knn.fit(X_train, Y_train)\n",
    "predictions = knn.predict(X_test2)\n",
    "print(accuracy_score(Y_test2, predictions))\n",
    "print(confusion_matrix(Y_test2, predictions))\n",
    "print(classification_report(Y_test2, predictions))"
   ]
  },
  {
   "cell_type": "code",
   "execution_count": 14,
   "metadata": {},
   "outputs": [
    {
     "name": "stdout",
     "output_type": "stream",
     "text": [
      "k= 1 Accuracy= 0.9512920426579163\n",
      "k= 2 Accuracy= 0.9521123872026251\n",
      "k= 3 Accuracy= 0.9558039376538146\n",
      "k= 4 Accuracy= 0.9563166529942576\n",
      "k= 5 Accuracy= 0.9607260049220673\n",
      "k= 6 Accuracy= 0.9597005742411813\n",
      "k= 7 Accuracy= 0.9609310910582445\n",
      "k= 8 Accuracy= 0.9606234618539786\n",
      "k= 9 Accuracy= 0.963084495488105\n",
      "k= 10 Accuracy= 0.963084495488105\n"
     ]
    }
   ],
   "source": [
    "#(f) Repeat (e) by changing the value of k (k=1, 2, 3,...., 10). Print only accuracy\n",
    "for i in range(1,11):\n",
    "    knn = KNeighborsClassifier(n_neighbors=i,metric=distance)\n",
    "    knn.fit(X_train, Y_train)\n",
    "    predictions = knn.predict(X_test2)\n",
    "    print(\"k=\",i,\"Accuracy=\",accuracy_score(Y_test2, predictions))"
   ]
  }
 ],
 "metadata": {
  "kernelspec": {
   "display_name": "Python 3",
   "language": "python",
   "name": "python3"
  },
  "language_info": {
   "codemirror_mode": {
    "name": "ipython",
    "version": 3
   },
   "file_extension": ".py",
   "mimetype": "text/x-python",
   "name": "python",
   "nbconvert_exporter": "python",
   "pygments_lexer": "ipython3",
   "version": "3.6.11"
  }
 },
 "nbformat": 4,
 "nbformat_minor": 2
}
