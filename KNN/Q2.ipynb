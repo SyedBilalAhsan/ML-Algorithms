{
 "cells": [
  {
   "cell_type": "code",
   "execution_count": 32,
   "metadata": {},
   "outputs": [],
   "source": [
    "import pandas\n",
    "from sklearn.model_selection import train_test_split\n",
    "from sklearn.metrics import classification_report\n",
    "from sklearn.metrics import confusion_matrix\n",
    "from sklearn.metrics import accuracy_score\n",
    "from sklearn.neighbors import KNeighborsClassifier"
   ]
  },
  {
   "cell_type": "code",
   "execution_count": 33,
   "metadata": {},
   "outputs": [],
   "source": [
    "#(a)Load data set using pandas library\n",
    "dataset = pandas.read_csv(\"datatraining.txt\")"
   ]
  },
  {
   "cell_type": "code",
   "execution_count": 34,
   "metadata": {},
   "outputs": [
    {
     "data": {
      "text/plain": [
       "(8143, 7)"
      ]
     },
     "execution_count": 34,
     "metadata": {},
     "output_type": "execute_result"
    }
   ],
   "source": [
    "#(b) Print the size of data set e.g. size should be [150,5] (4 Features and 1 class).\n",
    "dataset.shape"
   ]
  },
  {
   "cell_type": "code",
   "execution_count": 35,
   "metadata": {},
   "outputs": [
    {
     "data": {
      "text/plain": [
       "Occupancy\n",
       "0    6414\n",
       "1    1729\n",
       "dtype: int64"
      ]
     },
     "execution_count": 35,
     "metadata": {},
     "output_type": "execute_result"
    }
   ],
   "source": [
    "#(c) Display the class distribution\n",
    "dataset.groupby('Occupancy').size()"
   ]
  },
  {
   "cell_type": "code",
   "execution_count": 36,
   "metadata": {},
   "outputs": [],
   "source": [
    "# train dataset\n",
    "array = dataset.values\n",
    "X_train = array[:,1:6]\n",
    "Y_train = array[:,6]\n"
   ]
  },
  {
   "cell_type": "code",
   "execution_count": 37,
   "metadata": {},
   "outputs": [],
   "source": [
    "#(d) Now, divide your data using hold out approach (80% for training and 20% for testing)\n",
    "# train / test dataset\n",
    "datatest = pandas.read_csv(\"datatest.txt\")\n",
    "array = datatest.values\n",
    "X_test = array[:,1:6]\n",
    "Y_test = array[:,6]\n",
    "Y_test=Y_test.astype('int')\n",
    "Y_train=Y_train.astype('int')\n"
   ]
  },
  {
   "cell_type": "code",
   "execution_count": 38,
   "metadata": {},
   "outputs": [
    {
     "name": "stdout",
     "output_type": "stream",
     "text": [
      "0.9425891181988743\n",
      "[[1645   48]\n",
      " [ 105  867]]\n",
      "              precision    recall  f1-score   support\n",
      "\n",
      "           0       0.94      0.97      0.96      1693\n",
      "           1       0.95      0.89      0.92       972\n",
      "\n",
      "    accuracy                           0.94      2665\n",
      "   macro avg       0.94      0.93      0.94      2665\n",
      "weighted avg       0.94      0.94      0.94      2665\n",
      "\n"
     ]
    }
   ],
   "source": [
    "#(e) Apply knn classifier. See the documentation below. You need to import necessary classes\n",
    "knn = KNeighborsClassifier()\n",
    "knn.fit(X_train, Y_train)\n",
    "predictions = knn.predict(X_test)\n",
    "print(accuracy_score(Y_test, predictions))\n",
    "print(confusion_matrix(Y_test, predictions))\n",
    "print(classification_report(Y_test, predictions))"
   ]
  },
  {
   "cell_type": "code",
   "execution_count": 39,
   "metadata": {},
   "outputs": [
    {
     "name": "stdout",
     "output_type": "stream",
     "text": [
      "k= 1 ,Accuracy= 0.9365853658536586\n",
      "k= 2 ,Accuracy= 0.9230769230769231\n",
      "k= 3 ,Accuracy= 0.9350844277673546\n",
      "k= 4 ,Accuracy= 0.9275797373358349\n",
      "k= 5 ,Accuracy= 0.9425891181988743\n",
      "k= 6 ,Accuracy= 0.9324577861163227\n",
      "k= 7 ,Accuracy= 0.9609756097560975\n",
      "k= 8 ,Accuracy= 0.9549718574108818\n",
      "k= 9 ,Accuracy= 0.9617260787992495\n",
      "k= 10 ,Accuracy= 0.9598499061913696\n"
     ]
    }
   ],
   "source": [
    "#(f) Repeat (e) by changing the value of k (k=1, 2, 3,...., 10). Print only accuracy\n",
    "for i in range(1,11):\n",
    "    knn = KNeighborsClassifier(n_neighbors=i)\n",
    "    knn.fit(X_train, Y_train)\n",
    "    predictions = knn.predict(X_test)\n",
    "    print(\"k=\",i,\",Accuracy=\", accuracy_score(Y_test, predictions))"
   ]
  },
  {
   "cell_type": "code",
   "execution_count": 40,
   "metadata": {},
   "outputs": [],
   "source": [
    "#For test data2\n",
    "#(a)Load data set using pandas library\n",
    "datatest2 = pandas.read_csv(\"datatest2.txt\")\n"
   ]
  },
  {
   "cell_type": "code",
   "execution_count": 41,
   "metadata": {},
   "outputs": [
    {
     "data": {
      "text/plain": [
       "(9752, 7)"
      ]
     },
     "execution_count": 41,
     "metadata": {},
     "output_type": "execute_result"
    }
   ],
   "source": [
    "#(b) Print the size of data set e.g. size should be [150,5] (4 Features and 1 class).\n",
    "datatest2.shape"
   ]
  },
  {
   "cell_type": "code",
   "execution_count": 42,
   "metadata": {},
   "outputs": [
    {
     "data": {
      "text/plain": [
       "Occupancy\n",
       "0    6414\n",
       "1    1729\n",
       "dtype: int64"
      ]
     },
     "execution_count": 42,
     "metadata": {},
     "output_type": "execute_result"
    }
   ],
   "source": [
    "#(c) Display the class distribution\n",
    "dataset.groupby('Occupancy').size()"
   ]
  },
  {
   "cell_type": "code",
   "execution_count": 43,
   "metadata": {},
   "outputs": [],
   "source": [
    "#(d)train dataset\n",
    "array2 = datatest2.values\n",
    "X_test2 = array2[:,1:6]\n",
    "Y_test2 = array2[:,6]\n",
    "\n",
    "Y_test2=Y_test2.astype('int')"
   ]
  },
  {
   "cell_type": "code",
   "execution_count": 44,
   "metadata": {},
   "outputs": [
    {
     "name": "stdout",
     "output_type": "stream",
     "text": [
      "0.9621616078753076\n",
      "[[7385  318]\n",
      " [  51 1998]]\n",
      "              precision    recall  f1-score   support\n",
      "\n",
      "           0       0.99      0.96      0.98      7703\n",
      "           1       0.86      0.98      0.92      2049\n",
      "\n",
      "    accuracy                           0.96      9752\n",
      "   macro avg       0.93      0.97      0.95      9752\n",
      "weighted avg       0.97      0.96      0.96      9752\n",
      "\n"
     ]
    }
   ],
   "source": [
    "#(e) Apply knn classifier. See the documentation below. You need to import necessary classes\n",
    "knn = KNeighborsClassifier()\n",
    "knn.fit(X_train, Y_train)\n",
    "predictions = knn.predict(X_test2)\n",
    "print(accuracy_score(Y_test2, predictions))\n",
    "print(confusion_matrix(Y_test2, predictions))\n",
    "print(classification_report(Y_test2, predictions))"
   ]
  },
  {
   "cell_type": "code",
   "execution_count": 45,
   "metadata": {},
   "outputs": [
    {
     "name": "stdout",
     "output_type": "stream",
     "text": [
      "k= 1 Accuracy= 0.9502666119770303\n",
      "k= 2 Accuracy= 0.9525225594749795\n",
      "k= 3 Accuracy= 0.9579573420836751\n",
      "k= 4 Accuracy= 0.9539581624282198\n",
      "k= 5 Accuracy= 0.9621616078753076\n",
      "k= 6 Accuracy= 0.9628794093519278\n",
      "k= 7 Accuracy= 0.9649302707136997\n",
      "k= 8 Accuracy= 0.9658531583264971\n",
      "k= 9 Accuracy= 0.9656480721903199\n",
      "k= 10 Accuracy= 0.9656480721903199\n"
     ]
    }
   ],
   "source": [
    "#(f) Repeat (e) by changing the value of k (k=1, 2, 3,...., 10). Print only accuracy\n",
    "for i in range(1,11):\n",
    "    knn = KNeighborsClassifier(n_neighbors=i)\n",
    "    knn.fit(X_train, Y_train)\n",
    "    predictions = knn.predict(X_test2)\n",
    "    print(\"k=\",i,\"Accuracy=\",accuracy_score(Y_test2, predictions))"
   ]
  }
 ],
 "metadata": {
  "kernelspec": {
   "display_name": "Python 3",
   "language": "python",
   "name": "python3"
  },
  "language_info": {
   "codemirror_mode": {
    "name": "ipython",
    "version": 3
   },
   "file_extension": ".py",
   "mimetype": "text/x-python",
   "name": "python",
   "nbconvert_exporter": "python",
   "pygments_lexer": "ipython3",
   "version": "3.6.11"
  }
 },
 "nbformat": 4,
 "nbformat_minor": 2
}
