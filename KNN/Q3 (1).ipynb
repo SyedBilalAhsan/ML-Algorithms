{
 "cells": [
  {
   "cell_type": "code",
   "execution_count": 1,
   "metadata": {},
   "outputs": [],
   "source": [
    "import pandas\n",
    "from sklearn.model_selection import train_test_split\n",
    "from sklearn.metrics import classification_report\n",
    "from sklearn.metrics import confusion_matrix\n",
    "from sklearn.metrics import accuracy_score\n",
    "from sklearn.neighbors import KNeighborsClassifier"
   ]
  },
  {
   "cell_type": "code",
   "execution_count": 2,
   "metadata": {},
   "outputs": [],
   "source": [
    "#(a) Load data set using pandas library\n",
    "names = ['sepal-length', 'sepal-width', 'petal-length', 'petal-width', 'class']\n",
    "dataset = pandas.read_csv(\"iris.data\", names=names)"
   ]
  },
  {
   "cell_type": "code",
   "execution_count": 3,
   "metadata": {},
   "outputs": [
    {
     "data": {
      "text/plain": [
       "(150, 5)"
      ]
     },
     "execution_count": 3,
     "metadata": {},
     "output_type": "execute_result"
    }
   ],
   "source": [
    "#(b) Print the size of data set e.g. size should be [150,5] (4 Features and 1 class). Use\n",
    "dataset.shape "
   ]
  },
  {
   "cell_type": "code",
   "execution_count": 4,
   "metadata": {},
   "outputs": [
    {
     "data": {
      "text/plain": [
       "class\n",
       "Iris-setosa        50\n",
       "Iris-versicolor    50\n",
       "Iris-virginica     50\n",
       "dtype: int64"
      ]
     },
     "execution_count": 4,
     "metadata": {},
     "output_type": "execute_result"
    }
   ],
   "source": [
    "#(c) Display the class distribution\n",
    "dataset.groupby('class').size()"
   ]
  },
  {
   "cell_type": "code",
   "execution_count": 5,
   "metadata": {},
   "outputs": [],
   "source": [
    "#(d) Now, divide your data using hold out approach (80% for training and 20% for testing)\n",
    "# train / test dataset\n",
    "array = dataset.values\n",
    "X = array[:,0:4]\n",
    "Y = array[:,4]\n",
    "t_size = 0.20\n",
    "seed = 7\n",
    "X_train, X_test, Y_train, Y_test = train_test_split(X, Y, test_size=t_size,random_state=seed)"
   ]
  },
  {
   "cell_type": "code",
   "execution_count": 9,
   "metadata": {},
   "outputs": [
    {
     "name": "stdout",
     "output_type": "stream",
     "text": [
      "0.9666666666666667\n",
      "[[10  0  0]\n",
      " [ 0 12  1]\n",
      " [ 0  0  7]]\n",
      "                 precision    recall  f1-score   support\n",
      "\n",
      "    Iris-setosa       1.00      1.00      1.00        10\n",
      "Iris-versicolor       1.00      0.92      0.96        13\n",
      " Iris-virginica       0.88      1.00      0.93         7\n",
      "\n",
      "       accuracy                           0.97        30\n",
      "      macro avg       0.96      0.97      0.96        30\n",
      "   weighted avg       0.97      0.97      0.97        30\n",
      "\n"
     ]
    }
   ],
   "source": [
    "def distance(X,Y):\n",
    "    chi=0\n",
    "    for(x,y) in zip(X,Y):\n",
    "        if(x + y != 0):\n",
    "            chi=chi + ((x - y) ** 2) / (x + y)\n",
    "    return chi\n",
    "\n",
    "#(e) Apply knn classifier. See the documentation below. You need to import necessary classes\n",
    "knn = KNeighborsClassifier(metric=distance)\n",
    "knn.fit(X_train, Y_train)\n",
    "predictions = knn.predict(X_test)\n",
    "print(accuracy_score(Y_test, predictions))\n",
    "print(confusion_matrix(Y_test, predictions))\n",
    "print(classification_report(Y_test, predictions))"
   ]
  },
  {
   "cell_type": "code",
   "execution_count": 10,
   "metadata": {},
   "outputs": [
    {
     "name": "stdout",
     "output_type": "stream",
     "text": [
      "k= 1 ,Accuracy= 0.9666666666666667\n",
      "k= 2 ,Accuracy= 1.0\n",
      "k= 3 ,Accuracy= 0.9666666666666667\n",
      "k= 4 ,Accuracy= 1.0\n",
      "k= 5 ,Accuracy= 0.9666666666666667\n",
      "k= 6 ,Accuracy= 1.0\n",
      "k= 7 ,Accuracy= 1.0\n",
      "k= 8 ,Accuracy= 1.0\n",
      "k= 9 ,Accuracy= 1.0\n",
      "k= 10 ,Accuracy= 1.0\n"
     ]
    }
   ],
   "source": [
    "#(f) Repeat (e) by changing the value of k (k=1, 2, 3,...., 10). Print only accuracy\n",
    "for i in range(1,11):\n",
    "    knn = KNeighborsClassifier(n_neighbors=i,metric=distance)\n",
    "    knn.fit(X_train, Y_train)\n",
    "    predictions = knn.predict(X_test)\n",
    "    print(\"k=\",i,\",Accuracy=\", accuracy_score(Y_test, predictions))"
   ]
  },
  {
   "cell_type": "code",
   "execution_count": 11,
   "metadata": {},
   "outputs": [
    {
     "name": "stdout",
     "output_type": "stream",
     "text": [
      "seed= 1 ,Accuracy= 1.0\n",
      "seed= 2 ,Accuracy= 1.0\n",
      "seed= 3 ,Accuracy= 0.9666666666666667\n",
      "seed= 4 ,Accuracy= 0.9666666666666667\n",
      "seed= 5 ,Accuracy= 0.9333333333333333\n",
      "seed= 6 ,Accuracy= 0.9666666666666667\n",
      "seed= 7 ,Accuracy= 0.9\n",
      "seed= 8 ,Accuracy= 0.9\n",
      "seed= 9 ,Accuracy= 1.0\n",
      "seed= 10 ,Accuracy= 0.9666666666666667\n"
     ]
    }
   ],
   "source": [
    "#Repeat (e) by changing the value of seed (seed = 1, 2, 3, .... , 10). Print only accuracy\n",
    "for i in range(1,11):\n",
    "    seed = i\n",
    "    X_train, X_test, Y_train, Y_test = train_test_split(X, Y, test_size=t_size, random_state=seed)\n",
    "    knn = KNeighborsClassifier()\n",
    "    knn.fit(X_train, Y_train)\n",
    "    predictions = knn.predict(X_test)\n",
    "    print(\"seed=\",i,\",Accuracy=\", accuracy_score(Y_test, predictions))"
   ]
  }
 ],
 "metadata": {
  "kernelspec": {
   "display_name": "Python 3",
   "language": "python",
   "name": "python3"
  },
  "language_info": {
   "codemirror_mode": {
    "name": "ipython",
    "version": 3
   },
   "file_extension": ".py",
   "mimetype": "text/x-python",
   "name": "python",
   "nbconvert_exporter": "python",
   "pygments_lexer": "ipython3",
   "version": "3.6.11"
  }
 },
 "nbformat": 4,
 "nbformat_minor": 4
}
