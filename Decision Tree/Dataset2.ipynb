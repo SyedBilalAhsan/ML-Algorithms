{
 "cells": [
  {
   "cell_type": "markdown",
   "metadata": {},
   "source": [
    "# DT using gini(without puring)"
   ]
  },
  {
   "cell_type": "code",
   "execution_count": 30,
   "metadata": {},
   "outputs": [],
   "source": [
    "import pandas as pd \n",
    "import numpy as np\n",
    "from sklearn.tree import DecisionTreeClassifier\n",
    "from sklearn.model_selection import cross_val_score, StratifiedShuffleSplit, RepeatedKFold, train_test_split"
   ]
  },
  {
   "cell_type": "code",
   "execution_count": 31,
   "metadata": {},
   "outputs": [
    {
     "data": {
      "text/html": [
       "<div>\n",
       "<style scoped>\n",
       "    .dataframe tbody tr th:only-of-type {\n",
       "        vertical-align: middle;\n",
       "    }\n",
       "\n",
       "    .dataframe tbody tr th {\n",
       "        vertical-align: top;\n",
       "    }\n",
       "\n",
       "    .dataframe thead th {\n",
       "        text-align: right;\n",
       "    }\n",
       "</style>\n",
       "<table border=\"1\" class=\"dataframe\">\n",
       "  <thead>\n",
       "    <tr style=\"text-align: right;\">\n",
       "      <th></th>\n",
       "      <th>Record_ID</th>\n",
       "      <th>Auction_ID</th>\n",
       "      <th>Bidder_ID</th>\n",
       "      <th>Bidder_Tendency</th>\n",
       "      <th>Bidding_Ratio</th>\n",
       "      <th>Successive_Outbidding</th>\n",
       "      <th>Last_Bidding</th>\n",
       "      <th>Auction_Bids</th>\n",
       "      <th>Starting_Price_Average</th>\n",
       "      <th>Early_Bidding</th>\n",
       "      <th>Winning_Ratio</th>\n",
       "      <th>Auction_Duration</th>\n",
       "      <th>Class</th>\n",
       "    </tr>\n",
       "  </thead>\n",
       "  <tbody>\n",
       "    <tr>\n",
       "      <th>0</th>\n",
       "      <td>1</td>\n",
       "      <td>732</td>\n",
       "      <td>_***i</td>\n",
       "      <td>0.200000</td>\n",
       "      <td>0.400000</td>\n",
       "      <td>0.0</td>\n",
       "      <td>0.000028</td>\n",
       "      <td>0.000000</td>\n",
       "      <td>0.993593</td>\n",
       "      <td>0.000028</td>\n",
       "      <td>0.666667</td>\n",
       "      <td>5</td>\n",
       "      <td>0</td>\n",
       "    </tr>\n",
       "    <tr>\n",
       "      <th>1</th>\n",
       "      <td>2</td>\n",
       "      <td>732</td>\n",
       "      <td>g***r</td>\n",
       "      <td>0.024390</td>\n",
       "      <td>0.200000</td>\n",
       "      <td>0.0</td>\n",
       "      <td>0.013123</td>\n",
       "      <td>0.000000</td>\n",
       "      <td>0.993593</td>\n",
       "      <td>0.013123</td>\n",
       "      <td>0.944444</td>\n",
       "      <td>5</td>\n",
       "      <td>0</td>\n",
       "    </tr>\n",
       "    <tr>\n",
       "      <th>2</th>\n",
       "      <td>3</td>\n",
       "      <td>732</td>\n",
       "      <td>t***p</td>\n",
       "      <td>0.142857</td>\n",
       "      <td>0.200000</td>\n",
       "      <td>0.0</td>\n",
       "      <td>0.003042</td>\n",
       "      <td>0.000000</td>\n",
       "      <td>0.993593</td>\n",
       "      <td>0.003042</td>\n",
       "      <td>1.000000</td>\n",
       "      <td>5</td>\n",
       "      <td>0</td>\n",
       "    </tr>\n",
       "    <tr>\n",
       "      <th>3</th>\n",
       "      <td>4</td>\n",
       "      <td>732</td>\n",
       "      <td>7***n</td>\n",
       "      <td>0.100000</td>\n",
       "      <td>0.200000</td>\n",
       "      <td>0.0</td>\n",
       "      <td>0.097477</td>\n",
       "      <td>0.000000</td>\n",
       "      <td>0.993593</td>\n",
       "      <td>0.097477</td>\n",
       "      <td>1.000000</td>\n",
       "      <td>5</td>\n",
       "      <td>0</td>\n",
       "    </tr>\n",
       "    <tr>\n",
       "      <th>4</th>\n",
       "      <td>5</td>\n",
       "      <td>900</td>\n",
       "      <td>z***z</td>\n",
       "      <td>0.051282</td>\n",
       "      <td>0.222222</td>\n",
       "      <td>0.0</td>\n",
       "      <td>0.001318</td>\n",
       "      <td>0.000000</td>\n",
       "      <td>0.000000</td>\n",
       "      <td>0.001242</td>\n",
       "      <td>0.500000</td>\n",
       "      <td>7</td>\n",
       "      <td>0</td>\n",
       "    </tr>\n",
       "    <tr>\n",
       "      <th>...</th>\n",
       "      <td>...</td>\n",
       "      <td>...</td>\n",
       "      <td>...</td>\n",
       "      <td>...</td>\n",
       "      <td>...</td>\n",
       "      <td>...</td>\n",
       "      <td>...</td>\n",
       "      <td>...</td>\n",
       "      <td>...</td>\n",
       "      <td>...</td>\n",
       "      <td>...</td>\n",
       "      <td>...</td>\n",
       "      <td>...</td>\n",
       "    </tr>\n",
       "    <tr>\n",
       "      <th>6316</th>\n",
       "      <td>15129</td>\n",
       "      <td>760</td>\n",
       "      <td>l***t</td>\n",
       "      <td>0.333333</td>\n",
       "      <td>0.160000</td>\n",
       "      <td>1.0</td>\n",
       "      <td>0.738557</td>\n",
       "      <td>0.280000</td>\n",
       "      <td>0.993593</td>\n",
       "      <td>0.686358</td>\n",
       "      <td>0.888889</td>\n",
       "      <td>3</td>\n",
       "      <td>1</td>\n",
       "    </tr>\n",
       "    <tr>\n",
       "      <th>6317</th>\n",
       "      <td>15137</td>\n",
       "      <td>2481</td>\n",
       "      <td>s***s</td>\n",
       "      <td>0.030612</td>\n",
       "      <td>0.130435</td>\n",
       "      <td>0.0</td>\n",
       "      <td>0.005754</td>\n",
       "      <td>0.217391</td>\n",
       "      <td>0.993593</td>\n",
       "      <td>0.000010</td>\n",
       "      <td>0.878788</td>\n",
       "      <td>7</td>\n",
       "      <td>0</td>\n",
       "    </tr>\n",
       "    <tr>\n",
       "      <th>6318</th>\n",
       "      <td>15138</td>\n",
       "      <td>2481</td>\n",
       "      <td>h***t</td>\n",
       "      <td>0.055556</td>\n",
       "      <td>0.043478</td>\n",
       "      <td>0.0</td>\n",
       "      <td>0.015663</td>\n",
       "      <td>0.217391</td>\n",
       "      <td>0.993593</td>\n",
       "      <td>0.015663</td>\n",
       "      <td>0.000000</td>\n",
       "      <td>7</td>\n",
       "      <td>0</td>\n",
       "    </tr>\n",
       "    <tr>\n",
       "      <th>6319</th>\n",
       "      <td>15139</td>\n",
       "      <td>2481</td>\n",
       "      <td>d***d</td>\n",
       "      <td>0.076923</td>\n",
       "      <td>0.086957</td>\n",
       "      <td>0.0</td>\n",
       "      <td>0.068694</td>\n",
       "      <td>0.217391</td>\n",
       "      <td>0.993593</td>\n",
       "      <td>0.000415</td>\n",
       "      <td>0.000000</td>\n",
       "      <td>7</td>\n",
       "      <td>0</td>\n",
       "    </tr>\n",
       "    <tr>\n",
       "      <th>6320</th>\n",
       "      <td>15144</td>\n",
       "      <td>2481</td>\n",
       "      <td>a***l</td>\n",
       "      <td>0.016393</td>\n",
       "      <td>0.043478</td>\n",
       "      <td>0.0</td>\n",
       "      <td>0.340351</td>\n",
       "      <td>0.217391</td>\n",
       "      <td>0.993593</td>\n",
       "      <td>0.340351</td>\n",
       "      <td>0.000000</td>\n",
       "      <td>7</td>\n",
       "      <td>0</td>\n",
       "    </tr>\n",
       "  </tbody>\n",
       "</table>\n",
       "<p>6321 rows × 13 columns</p>\n",
       "</div>"
      ],
      "text/plain": [
       "      Record_ID  Auction_ID Bidder_ID  Bidder_Tendency  Bidding_Ratio  \\\n",
       "0             1         732     _***i         0.200000       0.400000   \n",
       "1             2         732     g***r         0.024390       0.200000   \n",
       "2             3         732     t***p         0.142857       0.200000   \n",
       "3             4         732     7***n         0.100000       0.200000   \n",
       "4             5         900     z***z         0.051282       0.222222   \n",
       "...         ...         ...       ...              ...            ...   \n",
       "6316      15129         760     l***t         0.333333       0.160000   \n",
       "6317      15137        2481     s***s         0.030612       0.130435   \n",
       "6318      15138        2481     h***t         0.055556       0.043478   \n",
       "6319      15139        2481     d***d         0.076923       0.086957   \n",
       "6320      15144        2481     a***l         0.016393       0.043478   \n",
       "\n",
       "      Successive_Outbidding  Last_Bidding  Auction_Bids  \\\n",
       "0                       0.0      0.000028      0.000000   \n",
       "1                       0.0      0.013123      0.000000   \n",
       "2                       0.0      0.003042      0.000000   \n",
       "3                       0.0      0.097477      0.000000   \n",
       "4                       0.0      0.001318      0.000000   \n",
       "...                     ...           ...           ...   \n",
       "6316                    1.0      0.738557      0.280000   \n",
       "6317                    0.0      0.005754      0.217391   \n",
       "6318                    0.0      0.015663      0.217391   \n",
       "6319                    0.0      0.068694      0.217391   \n",
       "6320                    0.0      0.340351      0.217391   \n",
       "\n",
       "      Starting_Price_Average  Early_Bidding  Winning_Ratio  Auction_Duration  \\\n",
       "0                   0.993593       0.000028       0.666667                 5   \n",
       "1                   0.993593       0.013123       0.944444                 5   \n",
       "2                   0.993593       0.003042       1.000000                 5   \n",
       "3                   0.993593       0.097477       1.000000                 5   \n",
       "4                   0.000000       0.001242       0.500000                 7   \n",
       "...                      ...            ...            ...               ...   \n",
       "6316                0.993593       0.686358       0.888889                 3   \n",
       "6317                0.993593       0.000010       0.878788                 7   \n",
       "6318                0.993593       0.015663       0.000000                 7   \n",
       "6319                0.993593       0.000415       0.000000                 7   \n",
       "6320                0.993593       0.340351       0.000000                 7   \n",
       "\n",
       "      Class  \n",
       "0         0  \n",
       "1         0  \n",
       "2         0  \n",
       "3         0  \n",
       "4         0  \n",
       "...     ...  \n",
       "6316      1  \n",
       "6317      0  \n",
       "6318      0  \n",
       "6319      0  \n",
       "6320      0  \n",
       "\n",
       "[6321 rows x 13 columns]"
      ]
     },
     "execution_count": 31,
     "metadata": {},
     "output_type": "execute_result"
    }
   ],
   "source": [
    "df = pd.read_csv(\"Dataset.csv\")\n",
    "df"
   ]
  },
  {
   "cell_type": "code",
   "execution_count": 41,
   "metadata": {},
   "outputs": [
    {
     "data": {
      "text/html": [
       "<div>\n",
       "<style scoped>\n",
       "    .dataframe tbody tr th:only-of-type {\n",
       "        vertical-align: middle;\n",
       "    }\n",
       "\n",
       "    .dataframe tbody tr th {\n",
       "        vertical-align: top;\n",
       "    }\n",
       "\n",
       "    .dataframe thead th {\n",
       "        text-align: right;\n",
       "    }\n",
       "</style>\n",
       "<table border=\"1\" class=\"dataframe\">\n",
       "  <thead>\n",
       "    <tr style=\"text-align: right;\">\n",
       "      <th></th>\n",
       "      <th>Record_ID</th>\n",
       "      <th>Auction_ID</th>\n",
       "      <th>Bidder_Tendency</th>\n",
       "      <th>Bidding_Ratio</th>\n",
       "      <th>Successive_Outbidding</th>\n",
       "      <th>Last_Bidding</th>\n",
       "      <th>Auction_Bids</th>\n",
       "      <th>Starting_Price_Average</th>\n",
       "      <th>Early_Bidding</th>\n",
       "      <th>Winning_Ratio</th>\n",
       "      <th>Auction_Duration</th>\n",
       "      <th>Class</th>\n",
       "    </tr>\n",
       "  </thead>\n",
       "  <tbody>\n",
       "    <tr>\n",
       "      <th>0</th>\n",
       "      <td>1</td>\n",
       "      <td>732</td>\n",
       "      <td>0.200000</td>\n",
       "      <td>0.400000</td>\n",
       "      <td>0.0</td>\n",
       "      <td>0.000028</td>\n",
       "      <td>0.000000</td>\n",
       "      <td>0.993593</td>\n",
       "      <td>0.000028</td>\n",
       "      <td>0.666667</td>\n",
       "      <td>5</td>\n",
       "      <td>0</td>\n",
       "    </tr>\n",
       "    <tr>\n",
       "      <th>1</th>\n",
       "      <td>2</td>\n",
       "      <td>732</td>\n",
       "      <td>0.024390</td>\n",
       "      <td>0.200000</td>\n",
       "      <td>0.0</td>\n",
       "      <td>0.013123</td>\n",
       "      <td>0.000000</td>\n",
       "      <td>0.993593</td>\n",
       "      <td>0.013123</td>\n",
       "      <td>0.944444</td>\n",
       "      <td>5</td>\n",
       "      <td>0</td>\n",
       "    </tr>\n",
       "    <tr>\n",
       "      <th>2</th>\n",
       "      <td>3</td>\n",
       "      <td>732</td>\n",
       "      <td>0.142857</td>\n",
       "      <td>0.200000</td>\n",
       "      <td>0.0</td>\n",
       "      <td>0.003042</td>\n",
       "      <td>0.000000</td>\n",
       "      <td>0.993593</td>\n",
       "      <td>0.003042</td>\n",
       "      <td>1.000000</td>\n",
       "      <td>5</td>\n",
       "      <td>0</td>\n",
       "    </tr>\n",
       "    <tr>\n",
       "      <th>3</th>\n",
       "      <td>4</td>\n",
       "      <td>732</td>\n",
       "      <td>0.100000</td>\n",
       "      <td>0.200000</td>\n",
       "      <td>0.0</td>\n",
       "      <td>0.097477</td>\n",
       "      <td>0.000000</td>\n",
       "      <td>0.993593</td>\n",
       "      <td>0.097477</td>\n",
       "      <td>1.000000</td>\n",
       "      <td>5</td>\n",
       "      <td>0</td>\n",
       "    </tr>\n",
       "    <tr>\n",
       "      <th>4</th>\n",
       "      <td>5</td>\n",
       "      <td>900</td>\n",
       "      <td>0.051282</td>\n",
       "      <td>0.222222</td>\n",
       "      <td>0.0</td>\n",
       "      <td>0.001318</td>\n",
       "      <td>0.000000</td>\n",
       "      <td>0.000000</td>\n",
       "      <td>0.001242</td>\n",
       "      <td>0.500000</td>\n",
       "      <td>7</td>\n",
       "      <td>0</td>\n",
       "    </tr>\n",
       "    <tr>\n",
       "      <th>...</th>\n",
       "      <td>...</td>\n",
       "      <td>...</td>\n",
       "      <td>...</td>\n",
       "      <td>...</td>\n",
       "      <td>...</td>\n",
       "      <td>...</td>\n",
       "      <td>...</td>\n",
       "      <td>...</td>\n",
       "      <td>...</td>\n",
       "      <td>...</td>\n",
       "      <td>...</td>\n",
       "      <td>...</td>\n",
       "    </tr>\n",
       "    <tr>\n",
       "      <th>6316</th>\n",
       "      <td>15129</td>\n",
       "      <td>760</td>\n",
       "      <td>0.333333</td>\n",
       "      <td>0.160000</td>\n",
       "      <td>1.0</td>\n",
       "      <td>0.738557</td>\n",
       "      <td>0.280000</td>\n",
       "      <td>0.993593</td>\n",
       "      <td>0.686358</td>\n",
       "      <td>0.888889</td>\n",
       "      <td>3</td>\n",
       "      <td>1</td>\n",
       "    </tr>\n",
       "    <tr>\n",
       "      <th>6317</th>\n",
       "      <td>15137</td>\n",
       "      <td>2481</td>\n",
       "      <td>0.030612</td>\n",
       "      <td>0.130435</td>\n",
       "      <td>0.0</td>\n",
       "      <td>0.005754</td>\n",
       "      <td>0.217391</td>\n",
       "      <td>0.993593</td>\n",
       "      <td>0.000010</td>\n",
       "      <td>0.878788</td>\n",
       "      <td>7</td>\n",
       "      <td>0</td>\n",
       "    </tr>\n",
       "    <tr>\n",
       "      <th>6318</th>\n",
       "      <td>15138</td>\n",
       "      <td>2481</td>\n",
       "      <td>0.055556</td>\n",
       "      <td>0.043478</td>\n",
       "      <td>0.0</td>\n",
       "      <td>0.015663</td>\n",
       "      <td>0.217391</td>\n",
       "      <td>0.993593</td>\n",
       "      <td>0.015663</td>\n",
       "      <td>0.000000</td>\n",
       "      <td>7</td>\n",
       "      <td>0</td>\n",
       "    </tr>\n",
       "    <tr>\n",
       "      <th>6319</th>\n",
       "      <td>15139</td>\n",
       "      <td>2481</td>\n",
       "      <td>0.076923</td>\n",
       "      <td>0.086957</td>\n",
       "      <td>0.0</td>\n",
       "      <td>0.068694</td>\n",
       "      <td>0.217391</td>\n",
       "      <td>0.993593</td>\n",
       "      <td>0.000415</td>\n",
       "      <td>0.000000</td>\n",
       "      <td>7</td>\n",
       "      <td>0</td>\n",
       "    </tr>\n",
       "    <tr>\n",
       "      <th>6320</th>\n",
       "      <td>15144</td>\n",
       "      <td>2481</td>\n",
       "      <td>0.016393</td>\n",
       "      <td>0.043478</td>\n",
       "      <td>0.0</td>\n",
       "      <td>0.340351</td>\n",
       "      <td>0.217391</td>\n",
       "      <td>0.993593</td>\n",
       "      <td>0.340351</td>\n",
       "      <td>0.000000</td>\n",
       "      <td>7</td>\n",
       "      <td>0</td>\n",
       "    </tr>\n",
       "  </tbody>\n",
       "</table>\n",
       "<p>6321 rows × 12 columns</p>\n",
       "</div>"
      ],
      "text/plain": [
       "      Record_ID  Auction_ID  Bidder_Tendency  Bidding_Ratio  \\\n",
       "0             1         732         0.200000       0.400000   \n",
       "1             2         732         0.024390       0.200000   \n",
       "2             3         732         0.142857       0.200000   \n",
       "3             4         732         0.100000       0.200000   \n",
       "4             5         900         0.051282       0.222222   \n",
       "...         ...         ...              ...            ...   \n",
       "6316      15129         760         0.333333       0.160000   \n",
       "6317      15137        2481         0.030612       0.130435   \n",
       "6318      15138        2481         0.055556       0.043478   \n",
       "6319      15139        2481         0.076923       0.086957   \n",
       "6320      15144        2481         0.016393       0.043478   \n",
       "\n",
       "      Successive_Outbidding  Last_Bidding  Auction_Bids  \\\n",
       "0                       0.0      0.000028      0.000000   \n",
       "1                       0.0      0.013123      0.000000   \n",
       "2                       0.0      0.003042      0.000000   \n",
       "3                       0.0      0.097477      0.000000   \n",
       "4                       0.0      0.001318      0.000000   \n",
       "...                     ...           ...           ...   \n",
       "6316                    1.0      0.738557      0.280000   \n",
       "6317                    0.0      0.005754      0.217391   \n",
       "6318                    0.0      0.015663      0.217391   \n",
       "6319                    0.0      0.068694      0.217391   \n",
       "6320                    0.0      0.340351      0.217391   \n",
       "\n",
       "      Starting_Price_Average  Early_Bidding  Winning_Ratio  Auction_Duration  \\\n",
       "0                   0.993593       0.000028       0.666667                 5   \n",
       "1                   0.993593       0.013123       0.944444                 5   \n",
       "2                   0.993593       0.003042       1.000000                 5   \n",
       "3                   0.993593       0.097477       1.000000                 5   \n",
       "4                   0.000000       0.001242       0.500000                 7   \n",
       "...                      ...            ...            ...               ...   \n",
       "6316                0.993593       0.686358       0.888889                 3   \n",
       "6317                0.993593       0.000010       0.878788                 7   \n",
       "6318                0.993593       0.015663       0.000000                 7   \n",
       "6319                0.993593       0.000415       0.000000                 7   \n",
       "6320                0.993593       0.340351       0.000000                 7   \n",
       "\n",
       "      Class  \n",
       "0         0  \n",
       "1         0  \n",
       "2         0  \n",
       "3         0  \n",
       "4         0  \n",
       "...     ...  \n",
       "6316      1  \n",
       "6317      0  \n",
       "6318      0  \n",
       "6319      0  \n",
       "6320      0  \n",
       "\n",
       "[6321 rows x 12 columns]"
      ]
     },
     "execution_count": 41,
     "metadata": {},
     "output_type": "execute_result"
    }
   ],
   "source": [
    "df=df.drop(columns=['Bidder_ID'])\n",
    "df"
   ]
  },
  {
   "cell_type": "code",
   "execution_count": 42,
   "metadata": {},
   "outputs": [],
   "source": [
    "array = df.values\n",
    "X = array[:,0:11]\n",
    "Y = array[:,11]\n"
   ]
  },
  {
   "cell_type": "code",
   "execution_count": 43,
   "metadata": {},
   "outputs": [],
   "source": [
    "#Classifier without pruning using gini\n",
    "Gini = DecisionTreeClassifier( criterion='gini' )"
   ]
  },
  {
   "cell_type": "code",
   "execution_count": 44,
   "metadata": {},
   "outputs": [],
   "source": [
    "#Repeated 10 X 10 folds\n",
    "CV = RepeatedKFold(n_splits = 10, n_repeats = 10, random_state = 1)"
   ]
  },
  {
   "cell_type": "code",
   "execution_count": 45,
   "metadata": {},
   "outputs": [],
   "source": [
    "#Holdout approach with 70:30 ratio repeated 100 times\n",
    "CV2 = StratifiedShuffleSplit(n_splits=100, test_size=0.3, random_state=0)"
   ]
  },
  {
   "cell_type": "code",
   "execution_count": 46,
   "metadata": {},
   "outputs": [
    {
     "name": "stdout",
     "output_type": "stream",
     "text": [
      "Accuracy:  0.9974212610234567  Standard Deviation:  0.002142158338965857\n"
     ]
    }
   ],
   "source": [
    "#Decision tree classifier using GINI without Pruning using 10 X 10 Fold CV \n",
    "Acc_n_Std = cross_val_score(Gini, X, Y, scoring='accuracy', cv=CV, n_jobs = -1)\n",
    "print('Accuracy: ', np.mean(Acc_n_Std), ' Standard Deviation: ', np.std(Acc_n_Std))"
   ]
  },
  {
   "cell_type": "code",
   "execution_count": 47,
   "metadata": {},
   "outputs": [
    {
     "name": "stdout",
     "output_type": "stream",
     "text": [
      "Accuracy:  0.9971059567738534  Standard Deviation:  0.0012815121712651022\n"
     ]
    }
   ],
   "source": [
    "#Decision tree classifier using GINI without Pruning using 70% Holdout approach repeated 100 times\n",
    "Acc_n_Std = cross_val_score(Gini, X, Y, scoring='accuracy', cv=CV2, n_jobs = -1)\n",
    "print('Accuracy: ', np.mean(Acc_n_Std), ' Standard Deviation: ', np.std(Acc_n_Std))"
   ]
  },
  {
   "cell_type": "markdown",
   "metadata": {},
   "source": [
    "# DT using Gini(With Puring)"
   ]
  },
  {
   "cell_type": "code",
   "execution_count": 48,
   "metadata": {},
   "outputs": [],
   "source": [
    "#Classifier with pruning using gini\n",
    "Gini_P = DecisionTreeClassifier( criterion='gini', ccp_alpha = 0.015)"
   ]
  },
  {
   "cell_type": "code",
   "execution_count": 49,
   "metadata": {},
   "outputs": [],
   "source": [
    "#Repeated 10 X 10 folds\n",
    "CV = RepeatedKFold(n_splits = 10, n_repeats = 10, random_state = 1)"
   ]
  },
  {
   "cell_type": "code",
   "execution_count": 50,
   "metadata": {},
   "outputs": [],
   "source": [
    "#Holdout approach with 70:30 ratio repeated 100 times\n",
    "CV2 = StratifiedShuffleSplit(n_splits=100, test_size=0.3, random_state=0)"
   ]
  },
  {
   "cell_type": "code",
   "execution_count": 51,
   "metadata": {},
   "outputs": [
    {
     "name": "stdout",
     "output_type": "stream",
     "text": [
      "Accuracy:  0.9973105265262865  Standard Deviation:  0.002019946149391974\n"
     ]
    }
   ],
   "source": [
    "#Decision tree classifier using GINI without Pruning using 10 X 10 Fold CV \n",
    "Acc_n_Std = cross_val_score(Gini, X, Y, scoring='accuracy', cv=CV, n_jobs = -1)\n",
    "print('Accuracy: ', np.mean(Acc_n_Std), ' Standard Deviation: ', np.std(Acc_n_Std))"
   ]
  },
  {
   "cell_type": "code",
   "execution_count": 52,
   "metadata": {},
   "outputs": [
    {
     "name": "stdout",
     "output_type": "stream",
     "text": [
      "Accuracy:  0.9970110701107011  Standard Deviation:  0.0013828071095805812\n"
     ]
    }
   ],
   "source": [
    "#Decision tree classifier using GINI without Pruning using 70% Holdout approach repeated 100 times\n",
    "Acc_n_Std = cross_val_score(Gini, X, Y, scoring='accuracy', cv=CV2, n_jobs = -1)\n",
    "print('Accuracy: ', np.mean(Acc_n_Std), ' Standard Deviation: ', np.std(Acc_n_Std))"
   ]
  },
  {
   "cell_type": "markdown",
   "metadata": {},
   "source": [
    "# DT using Entropy(without puring) "
   ]
  },
  {
   "cell_type": "code",
   "execution_count": 53,
   "metadata": {},
   "outputs": [],
   "source": [
    "#Classifier without pruning using entropy\n",
    "Entropy = DecisionTreeClassifier( criterion='entropy' )"
   ]
  },
  {
   "cell_type": "code",
   "execution_count": 54,
   "metadata": {},
   "outputs": [],
   "source": [
    "#Repeated 10 X 10 folds\n",
    "CV = RepeatedKFold(n_splits = 10, n_repeats = 10, random_state = 1)"
   ]
  },
  {
   "cell_type": "code",
   "execution_count": 57,
   "metadata": {},
   "outputs": [],
   "source": [
    "#Holdout approach with 70:30 ratio repeated 100 times\n",
    "CV2 = StratifiedShuffleSplit(n_splits=100, test_size=0.3, random_state=0)"
   ]
  },
  {
   "cell_type": "code",
   "execution_count": 58,
   "metadata": {},
   "outputs": [
    {
     "name": "stdout",
     "output_type": "stream",
     "text": [
      "Accuracy:  0.9973262243285942  Standard Deviation:  0.0021074325634023237\n"
     ]
    }
   ],
   "source": [
    "#Decision tree classifier using Entropy without Pruning using 10 X 10 Fold CV \n",
    "Acc_n_Std = cross_val_score(Entropy, X, Y, scoring='accuracy', cv=CV, n_jobs = -1)\n",
    "print('Accuracy: ', np.mean(Acc_n_Std), ' Standard Deviation: ', np.std(Acc_n_Std))"
   ]
  },
  {
   "cell_type": "code",
   "execution_count": 59,
   "metadata": {},
   "outputs": [
    {
     "name": "stdout",
     "output_type": "stream",
     "text": [
      "Accuracy:  0.9972113863995783  Standard Deviation:  0.0012810784146579607\n"
     ]
    }
   ],
   "source": [
    "#Decision tree classifier using GINI without Pruning using 70% Holdout approach repeated 100 times\n",
    "Acc_n_Std = cross_val_score(Entropy, X, Y, scoring='accuracy', cv=CV2, n_jobs = -1)\n",
    "print('Accuracy: ', np.mean(Acc_n_Std), ' Standard Deviation: ', np.std(Acc_n_Std))"
   ]
  },
  {
   "cell_type": "markdown",
   "metadata": {},
   "source": [
    "# DT using Entropy(with Puring)"
   ]
  },
  {
   "cell_type": "code",
   "execution_count": 60,
   "metadata": {},
   "outputs": [],
   "source": [
    "##Classifier with pruning using entropy\n",
    "Entropy_P = DecisionTreeClassifier( criterion='entropy', ccp_alpha = 0.015)"
   ]
  },
  {
   "cell_type": "code",
   "execution_count": 61,
   "metadata": {},
   "outputs": [],
   "source": [
    "#Repeated 10 X 10 folds\n",
    "CV = RepeatedKFold(n_splits = 10, n_repeats = 10, random_state = 1)"
   ]
  },
  {
   "cell_type": "code",
   "execution_count": 62,
   "metadata": {},
   "outputs": [],
   "source": [
    "#Holdout approach with 70:30 ratio repeated 100 times\n",
    "CV2 = StratifiedShuffleSplit(n_splits=100, test_size=0.3, random_state=0)\n"
   ]
  },
  {
   "cell_type": "code",
   "execution_count": 63,
   "metadata": {},
   "outputs": [
    {
     "name": "stdout",
     "output_type": "stream",
     "text": [
      "Accuracy:  0.9974211360409544  Standard Deviation:  0.002058853714516901\n"
     ]
    }
   ],
   "source": [
    "#Decision tree classifier using Entropy without Pruning using 10 X 10 Fold CV \n",
    "Acc_n_Std = cross_val_score(Entropy, X, Y, scoring='accuracy', cv=CV, n_jobs = -1)\n",
    "print('Accuracy: ', np.mean(Acc_n_Std), ' Standard Deviation: ', np.std(Acc_n_Std))"
   ]
  },
  {
   "cell_type": "code",
   "execution_count": 64,
   "metadata": {},
   "outputs": [
    {
     "name": "stdout",
     "output_type": "stream",
     "text": [
      "Accuracy:  0.9972482867685821  Standard Deviation:  0.0013410300270991177\n"
     ]
    }
   ],
   "source": [
    "#Decision tree classifier using GINI without Pruning using 70% Holdout approach repeated 100 times\n",
    "Acc_n_Std = cross_val_score(Entropy, X, Y, scoring='accuracy', cv=CV2, n_jobs = -1)\n",
    "print('Accuracy: ', np.mean(Acc_n_Std), ' Standard Deviation: ', np.std(Acc_n_Std))"
   ]
  }
 ],
 "metadata": {
  "kernelspec": {
   "display_name": "Python 3",
   "language": "python",
   "name": "python3"
  },
  "language_info": {
   "codemirror_mode": {
    "name": "ipython",
    "version": 3
   },
   "file_extension": ".py",
   "mimetype": "text/x-python",
   "name": "python",
   "nbconvert_exporter": "python",
   "pygments_lexer": "ipython3",
   "version": "3.6.11"
  }
 },
 "nbformat": 4,
 "nbformat_minor": 4
}
